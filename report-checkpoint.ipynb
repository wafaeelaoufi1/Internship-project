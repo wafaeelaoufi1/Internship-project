{
 "cells": [
  {
   "cell_type": "code",
   "execution_count": 1,
   "metadata": {
    "colab": {
     "base_uri": "https://localhost:8080/"
    },
    "id": "JXlvhMXDMwgd",
    "outputId": "b7328d43-a1b1-4f0a-b10a-20bf38583699"
   },
   "outputs": [
    {
     "name": "stdout",
     "output_type": "stream",
     "text": [
      "Requirement already satisfied: python-docx in c:\\users\\user\\anaconda3\\lib\\site-packages (1.1.2)\n",
      "Requirement already satisfied: lxml>=3.1.0 in c:\\users\\user\\anaconda3\\lib\\site-packages (from python-docx) (4.9.3)\n",
      "Requirement already satisfied: typing-extensions>=4.9.0 in c:\\users\\user\\anaconda3\\lib\\site-packages (from python-docx) (4.12.2)\n"
     ]
    }
   ],
   "source": [
    "!pip install python-docx"
   ]
  },
  {
   "cell_type": "code",
   "execution_count": 2,
   "metadata": {
    "id": "BPD7vAvpM0aj"
   },
   "outputs": [],
   "source": [
    "import pandas as pd\n",
    "import numpy as np\n",
    "import matplotlib.pyplot as plt\n",
    "import plotly.express as px\n",
    "from docx import Document\n",
    "from docx.shared import Inches\n"
   ]
  },
  {
   "cell_type": "code",
   "execution_count": null,
   "metadata": {
    "id": "lTM4JJYeM27d"
   },
   "outputs": [],
   "source": [
    "df=pd.read_excel('C:\\\\Users\\\\user\\\\Downloads\\\\T17.xlsx')"
   ]
  },
  {
   "cell_type": "code",
   "execution_count": null,
   "metadata": {
    "id": "ii0CH5aYM9oy"
   },
   "outputs": [],
   "source": [
    "df['created_at'] = pd.to_datetime(df['created_at'])\n",
    "df['date2'] = df['created_at'].dt.date"
   ]
  },
  {
   "cell_type": "code",
   "execution_count": null,
   "metadata": {
    "id": "qm-PVm9iNKbH"
   },
   "outputs": [],
   "source": [
    "from docx.shared import RGBColor\n",
    "doc = Document()\n",
    "title = doc.add_heading('Rapport de défauts', level=1)\n",
    "doc.add_heading('USE CASE : Equipement X', level=4)\n",
    "title_run = title.runs[0]\n",
    "title_run.font.color.rgb = RGBColor(178, 111, 210)"
   ]
  },
  {
   "cell_type": "code",
   "execution_count": null,
   "metadata": {
    "colab": {
     "base_uri": "https://localhost:8080/",
     "height": 522
    },
    "id": "9eDxnxHdNLS5",
    "outputId": "c24765bc-2e73-4915-ec5f-1848606ab913"
   },
   "outputs": [],
   "source": [
    "types=df['point_name'].unique()\n",
    "plt.figure(figsize=(10, 6))\n",
    "df['date2'] = pd.to_datetime(df['date2'], errors='coerce')\n",
    "date_reference = pd.Timestamp('2024-01-01')\n",
    "df_filtered = df[df['date2'] >= date_reference]\n",
    "df_filtered = df_filtered.sort_values(by='date2')\n",
    "for k in types:\n",
    "    plt.plot(df_filtered[(df_filtered['point_name'] == k)]['date2'], df_filtered[(df_filtered['point_name'] == k)]['NGV'])\n",
    "\n",
    "\n",
    "plt.ylabel('NGV')\n",
    "plt.legend(df['point_name'])\n",
    "chemin_image = 'graphique.png'\n",
    "plt.savefig(chemin_image)\n",
    "plt.show()\n",
    "para=\"Notre attention se porte sur la surveillance des performances du Equipement X, un élément vital de notre système. À travers le graphique des tendances des points de capteurs, nous explorons une vue globale des variations observées dans les différentes parties de l'équipement . Cette visualisation offre une vue d'ensemble claire, permettant d identifier les conditions de fonctionnement normales ainsi que les éventuelles anomalies. \"\n",
    "doc.add_paragraph(para)\n",
    "description = doc.add_paragraph(\"Valeurs de NGV\")\n",
    "description_run = description.runs[0]\n",
    "description_run.font.color.rgb = RGBColor(0, 0, 255)\n",
    "doc.add_picture(chemin_image, width=Inches(7.5))\n",
    "doc.add_page_break()\n",
    "chemin_fichier = 'rapport_avec_graphique.docx'\n",
    "doc.save(chemin_fichier)"
   ]
  },
  {
   "cell_type": "code",
   "execution_count": null,
   "metadata": {
    "id": "eGfsqRLJZ0ob"
   },
   "outputs": [],
   "source": [
    "def pietype(motor_type):\n",
    "    y=df[df['family'] == motor_type]['point_name'].unique()\n",
    "    n=[]\n",
    "    for k in y:\n",
    "      n.append(df[(df['family'] == motor_type) & (df['point_name'] == k) ]['point_name'].count())\n",
    "\n",
    "    plt.pie(n, labels = y)\n",
    "    plt.legend(title = motor_type)\n",
    "\n",
    "    plt.tight_layout()\n",
    "\n",
    "    chemin_image = 'graphique.png'\n",
    "    plt.savefig(chemin_image)\n",
    "\n",
    "    plt.show()"
   ]
  },
  {
   "cell_type": "code",
   "execution_count": null,
   "metadata": {
    "colab": {
     "base_uri": "https://localhost:8080/",
     "height": 1000
    },
    "id": "YkRus4K3aETA",
    "outputId": "7b91f302-d107-4a45-bb0c-691a1e51e46c"
   },
   "outputs": [],
   "source": [
    "description = doc.add_paragraph('les points de chaque moteur')\n",
    "description_run = description.runs[0]\n",
    "description_run.font.color.rgb = RGBColor(0, 0, 255)\n",
    "table = doc.add_table(rows=1, cols=3)\n",
    "row_cells = table.rows[0].cells\n",
    "p = doc.paragraphs[-1]  \n",
    "p.alignment = 1\n",
    "m=df['family'].unique()\n",
    "for k in range (len(m)):\n",
    "  pietype(m[k])\n",
    "  row_cells[k].add_paragraph().add_run().add_picture(chemin_image, width=Inches(2.25))"
   ]
  },
  {
   "cell_type": "code",
   "execution_count": null,
   "metadata": {
    "colab": {
     "base_uri": "https://localhost:8080/",
     "height": 1000
    },
    "id": "OSGBJepiOwbw",
    "outputId": "d7ab02d1-1d89-4ab3-90ee-d5c657d6af58"
   },
   "outputs": [],
   "source": [
    "N=[]\n",
    "for i in df['date2'].dt.year.unique():\n",
    "\n",
    "  n=[df[(df['date2'].dt.year == i) & (df[18] == 1) ][18].count(),df[(df['date2'].dt.year == i) & (df[18] == 0) ][18].count()]\n",
    "  N.append(n)\n",
    "for i in df['date2'].dt.year.unique():\n",
    "  N.append(i)\n",
    "doc.add_heading(\"Arrêt Général\", level=1)\n",
    "description = doc.add_paragraph('Pourcentage des arrêts')\n",
    "description_run = description.runs[0]\n",
    "description_run.font.color.rgb = RGBColor(0, 0, 255)\n",
    "p = doc.paragraphs[-1] \n",
    "p.alignment = 1\n",
    "table = doc.add_table(rows=1, cols=3)\n",
    "row_cells = table.rows[0].cells\n",
    "\n",
    "def arret(n,i):\n",
    "  labels = ['en arrêt','en marche']\n",
    "  fig, ax = plt.subplots()\n",
    "  a=N[len(df['date2'].dt.year.unique())+i]\n",
    "  ax.pie(n, labels=labels, autopct='%1.1f%%', startangle=90)\n",
    "  plt.title(f'Pourcentage des arrêts pour lannée {a}')\n",
    "  ax.axis('equal')\n",
    "  chemin_image = 'graphique.png'\n",
    "  plt.savefig(chemin_image)\n",
    "  plt.show()\n",
    "\n",
    "for i in range (0,len(df['date2'].dt.year.unique())):\n",
    "  arret(N[i],i)\n",
    "  row_cells[i].add_paragraph().add_run().add_picture(chemin_image, width=Inches(2.25))\n",
    "\n",
    "para=\"L'analyse de ces périodes est essentielle pour évaluer la performance opérationnelle de l’Equipement X, pour identifier les tendances potentielles dans les causes des arrêts, et pour mettre en œuvre des améliorations ciblées visant à réduire les temps d'arrêt à l'avenir. Cette documentation exhaustive permet d aligner les pratiques de maintenance avec les objectifs de productivité et de fiabilité à long terme.\"\n",
    "doc.add_paragraph(para)\n",
    "\n",
    "chemin_fichier = 'rapport_avec_graphique.docx'\n",
    "doc.save(chemin_fichier)"
   ]
  },
  {
   "cell_type": "code",
   "execution_count": null,
   "metadata": {
    "id": "5ff7P7XONvsH"
   },
   "outputs": [],
   "source": [
    "L=[]\n",
    "for k in df.family.unique():\n",
    "  for l in df.point_name.unique():\n",
    "    count1=df[(df['family'] == k) & (df['point_name'] == l)].shape[0]\n",
    "    count2=df[(df['family'] == k) & (df['point_name'] == l) & (df[20] == 1)].shape[0]\n",
    "    count3=df[(df['family'] == k) & (df['point_name'] == l) & (df[18] == 1)].shape[0]\n",
    "    count4=df[(df['family'] == k) & (df['point_name'] == l) & (df[14] == 1)].shape[0]\n",
    "    count5=df[(df['family'] == k) & (df['point_name'] == l) & (df[16] == 1)].shape[0]\n",
    "    count6=df[(df['family'] == k) & (df['point_name'] == l) & (df[17] == 1)].shape[0]\n",
    "\n",
    "    if count1!=0:\n",
    "      L.append([k,l,count1,count2,count3,count4,count5,count6])\n",
    "L"
   ]
  },
  {
   "cell_type": "code",
   "execution_count": null,
   "metadata": {
    "colab": {
     "base_uri": "https://localhost:8080/",
     "height": 441
    },
    "id": "t9lTDwV2ODkr",
    "outputId": "6ecd2bea-7258-47f9-f719-e3d0011e73f8"
   },
   "outputs": [],
   "source": [
    "df1 = pd.DataFrame(L, columns=[' ',' Points','mesures totales','Outliers' , 'Arrêt' ,'Ski Slope','Défaut de Capteur' , 'Saturation de Capteur'])\n",
    "fig, ax = plt.subplots(figsize=(12, 8))  \n",
    "ax.axis('tight')\n",
    "ax.axis('off')\n",
    "table = ax.table(cellText=df1.values, colLabels=df1.columns, cellLoc='center', loc='center')\n",
    "for (i, j), cell in table._cells.items():\n",
    "    cell.set_edgecolor('black') \n",
    "    cell.set_linewidth(1)  \n",
    "    cell.set_fontsize(18)  \n",
    "\n",
    "\n",
    "for i in range(len(df1.index)):\n",
    "    for cell in table._cells.values():\n",
    "        if cell.get_text().get_text() in df1.index:\n",
    "            cell.set_height(6)  \n",
    "table.scale(2, 6)\n",
    "\n",
    "\n",
    "chemin_image = 'graphique.png'\n",
    "plt.savefig(chemin_image, bbox_inches='tight', dpi=300)  \n",
    "plt.show()\n",
    "doc.add_heading('Vision Générale', level=1)\n",
    "doc.add_picture(chemin_image, width=Inches(7.0))\n",
    "doc.add_page_break()\n",
    "chemin_fichier = 'rapport_avec_graphique.docx'\n",
    "doc.save(chemin_fichier)"
   ]
  },
  {
   "cell_type": "code",
   "execution_count": null,
   "metadata": {
    "id": "sRjwTACmOJSW"
   },
   "outputs": [],
   "source": [
    "df['NGV2']=df[(df[14] != 1) & (df[16] != 1) & (df[20] != 1) ]['NGV']\n",
    "df['NGV2'] = df.apply(lambda row: 0 if ( row[18] == 1 ) else row['NGV'], axis=1)"
   ]
  },
  {
   "cell_type": "code",
   "execution_count": null,
   "metadata": {
    "colab": {
     "base_uri": "https://localhost:8080/",
     "height": 545
    },
    "id": "0F5q_kSZEkBA",
    "outputId": "90cfe50f-7fb5-4283-d1fd-5cfb23daec7c"
   },
   "outputs": [],
   "source": [
    "doc.add_heading(\"Tendances de l'ensemble des points de l'équipement\", level=1)\n",
    "para=\"Initialement, les tendances de l'ensemble des points de l'équipement Equipement X étaient affectées par des interruptions fréquentes, des variations soudaines et des fluctuations anormales, résultant en une représentation instable et imprécise de la performance opérationnelle. Les arrêts non planifiés, les variations de type Ski Slope et les défauts de capteurs étaient présents de manière significative, perturbant la continuité des données et entravant la capacité à identifier les schémas sous-jacents.\"\n",
    "doc.add_paragraph(para)\n",
    "types=df['point_name'].unique()\n",
    "plt.figure(figsize=(10, 6))\n",
    "df['date2'] = pd.to_datetime(df['date2'], errors='coerce')\n",
    "date_reference = pd.Timestamp('2024-01-01')\n",
    "df_filtered = df[df['date2'] >= date_reference]\n",
    "df_filtered = df_filtered.sort_values(by='date2')\n",
    "for k in types:\n",
    "    plt.plot(df_filtered[(df_filtered['point_name'] == k)]['date2'], df_filtered[(df_filtered['point_name'] == k)]['NGV'])\n",
    "\n",
    "\n",
    "plt.ylabel('NGV')\n",
    "plt.legend(df['point_name'])\n",
    "plt.title('NGV Trend (Including Shutdown, Ski Slope, Sensor Saturation, Sensor fault and Outliers)')\n",
    "chemin_image = 'graphique.png'\n",
    "plt.savefig(chemin_image)\n",
    "plt.show()\n",
    "doc.add_picture(chemin_image, width=Inches(6.0))\n",
    "\n",
    "chemin_fichier = 'rapport_avec_graphique.docx'\n",
    "doc.save(chemin_fichier)"
   ]
  },
  {
   "cell_type": "code",
   "execution_count": null,
   "metadata": {
    "colab": {
     "base_uri": "https://localhost:8080/",
     "height": 545
    },
    "id": "54Jp3PcNOMXH",
    "outputId": "e2a60bf3-d28b-4621-a325-3da35b49fe5e"
   },
   "outputs": [],
   "source": [
    "para=\"Suite à l'application du preprocessing, les tendances du Equipement X ont été considérablement améliorées. La détection et la correction des arrêts non planifiés, des variations de type Ski Slope et des défauts de capteurs ont permis d'atténuer les perturbations. En éliminant ces anomalies, les données ont été rendues plus cohérentes et plus fiables, offrant ainsi une vue plus claire de la performance opérationnelle de l'équipement. En conséquence, les tendances post-preprocessing sont plus stables, plus précises et fournissent une base solide pour une analyse approfondie et une prise de décision éclairée\"\n",
    "doc.add_paragraph(para)\n",
    "types=df['point_name'].unique()\n",
    "plt.figure(figsize=(10, 6))\n",
    "df['date2'] = pd.to_datetime(df['date2'], errors='coerce')\n",
    "date_reference = pd.Timestamp('2024-01-01')\n",
    "df_filtered = df[df['date2'] >= date_reference]\n",
    "df_filtered = df_filtered.sort_values(by='date2')\n",
    "for k in types:\n",
    "    plt.plot(df_filtered[(df_filtered['point_name'] == k)]['date2'], df_filtered[(df_filtered['point_name'] == k)]['NGV2'])\n",
    "\n",
    "\n",
    "plt.ylabel('NGV2')\n",
    "plt.legend(df['point_name'])\n",
    "plt.title('NGV Trend (Excluding Ski Slope, Sensor fault and Outliers)')\n",
    "chemin_image = 'graphique.png'\n",
    "plt.savefig(chemin_image)\n",
    "doc.add_picture(chemin_image, width=Inches(6.0))\n",
    "chemin_fichier = 'rapport_avec_graphique.docx'\n",
    "doc.save(chemin_fichier)"
   ]
  },
  {
   "cell_type": "code",
   "execution_count": null,
   "metadata": {},
   "outputs": [],
   "source": []
  },
  {
   "cell_type": "code",
   "execution_count": null,
   "metadata": {},
   "outputs": [],
   "source": []
  },
  {
   "cell_type": "code",
   "execution_count": null,
   "metadata": {},
   "outputs": [],
   "source": []
  },
  {
   "cell_type": "code",
   "execution_count": null,
   "metadata": {},
   "outputs": [],
   "source": []
  }
 ],
 "metadata": {
  "colab": {
   "provenance": []
  },
  "kernelspec": {
   "display_name": "Python 3 (ipykernel)",
   "language": "python",
   "name": "python3"
  },
  "language_info": {
   "codemirror_mode": {
    "name": "ipython",
    "version": 3
   },
   "file_extension": ".py",
   "mimetype": "text/x-python",
   "name": "python",
   "nbconvert_exporter": "python",
   "pygments_lexer": "ipython3",
   "version": "3.11.5"
  }
 },
 "nbformat": 4,
 "nbformat_minor": 1
}
